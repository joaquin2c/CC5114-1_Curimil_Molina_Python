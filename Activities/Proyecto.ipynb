{
 "cells": [
  {
   "cell_type": "markdown",
   "metadata": {},
   "source": [
    "## NeuralNetwork.py\n",
    "Se utiliza el código que el profesor subió a material docente"
   ]
  },
  {
   "cell_type": "code",
   "execution_count": 103,
   "metadata": {},
   "outputs": [],
   "source": [
    "# We reuse the code that we got from the teaching staff\n",
    "\n",
    "import numpy as np\n",
    "import matplotlib.pyplot as plt\n",
    "def sigmoid(z):\n",
    "\treturn 1/(1 + np.exp(-z))\n",
    "\n",
    "# Produce a neural network randomly initialized\n",
    "def initialize_parameters(n_x, n_h, n_y):\n",
    "\tW1 = np.random.randn(n_h, n_x)\n",
    "\tb1 = np.zeros((n_h, 1))\n",
    "\tW2 = np.random.randn(n_y, n_h)\n",
    "\tb2 = np.zeros((n_y, 1))\n",
    "\n",
    "\tparameters = {\n",
    "\t\"W1\": W1,\n",
    "\t\"b1\" : b1,\n",
    "\t\"W2\": W2,\n",
    "\t\"b2\" : b2\n",
    "\t}\n",
    "\treturn parameters\n",
    "\n",
    "# Evaluate the neural network\n",
    "def forward_prop(X, parameters):\n",
    "  W1 = parameters[\"W1\"]\n",
    "  b1 = parameters[\"b1\"]\n",
    "  W2 = parameters[\"W2\"]\n",
    "  b2 = parameters[\"b2\"]\n",
    "\n",
    "  # Z value for Layer 1\n",
    "  Z1 = np.dot(W1, X) + b1\n",
    "  # Activation value for Layer 1\n",
    "  A1 = np.tanh(Z1)\n",
    "  # Z value for Layer 2\n",
    "  Z2 = np.dot(W2, A1) + b2\n",
    "  # Activation value for Layer 2\n",
    "  A2 = sigmoid(Z2)\n",
    "\n",
    "  cache = {\n",
    "    \"A1\": A1,\n",
    "    \"A2\": A2\n",
    "  }\n",
    "  return A2, cache\n",
    "\n",
    "# Evaluate the error (i.e., cost) between the prediction made in A2 and the provided labels Y \n",
    "# We use the Mean Square Error cost function\n",
    "def calculate_cost(A2, Y):\n",
    "  # m is the number of examples\n",
    "  cost = np.sum((0.5 * (A2 - Y) ** 2).mean(axis=1))/m\n",
    "  return cost\n",
    "\n",
    "# Apply the backpropagation\n",
    "def backward_prop(X, Y, cache, parameters):\n",
    "  A1 = cache[\"A1\"]\n",
    "  A2 = cache[\"A2\"]\n",
    "\n",
    "  W2 = parameters[\"W2\"]\n",
    "\n",
    "  # Compute the difference between the predicted value and the real values\n",
    "  dZ2 = A2 - Y\n",
    "  dW2 = np.dot(dZ2, A1.T)/m\n",
    "  db2 = np.sum(dZ2, axis=1, keepdims=True)/m\n",
    "  # Because d/dx tanh(x) = 1 - tanh^2(x)\n",
    "  dZ1 = np.multiply(np.dot(W2.T, dZ2), 1-np.power(A1, 2))\n",
    "  dW1 = np.dot(dZ1, X.T)/m\n",
    "  db1 = np.sum(dZ1, axis=1, keepdims=True)/m\n",
    "\n",
    "  grads = {\n",
    "    \"dW1\": dW1,\n",
    "    \"db1\": db1,\n",
    "    \"dW2\": dW2,\n",
    "    \"db2\": db2\n",
    "  }\n",
    "\n",
    "  return grads\n",
    "\n",
    "# Third phase of the learning algorithm: update the weights and bias\n",
    "def update_parameters(parameters, grads, learning_rate):\n",
    "  W1 = parameters[\"W1\"]\n",
    "  b1 = parameters[\"b1\"]\n",
    "  W2 = parameters[\"W2\"]\n",
    "  b2 = parameters[\"b2\"]\n",
    "\n",
    "  dW1 = grads[\"dW1\"]\n",
    "  db1 = grads[\"db1\"]\n",
    "  dW2 = grads[\"dW2\"]\n",
    "  db2 = grads[\"db2\"]\n",
    "\n",
    "  W1 = W1 - learning_rate*dW1\n",
    "  b1 = b1 - learning_rate*db1\n",
    "  W2 = W2 - learning_rate*dW2\n",
    "  b2 = b2 - learning_rate*db2\n",
    "  \n",
    "  new_parameters = {\n",
    "    \"W1\": W1,\n",
    "    \"W2\": W2,\n",
    "    \"b1\" : b1,\n",
    "    \"b2\" : b2\n",
    "  }\n",
    "\n",
    "  return new_parameters\n",
    "\n",
    "# model is the main function to train a model\n",
    "# X: is the set of training inputs\n",
    "# Y: is the set of training outputs\n",
    "# n_x: number of inputs (this value impacts how X is shaped)\n",
    "# n_h: number of neurons in the hidden layer\n",
    "# n_y: number of neurons in the output layer (this value impacts how Y is shaped)\n",
    "def model(X, Y, n_x, n_h, n_y, num_of_iters, learning_rate):\n",
    "  c=[]\n",
    "  ite=[]\n",
    "  parameters = initialize_parameters(n_x, n_h, n_y)\n",
    "  for i in range(0, num_of_iters+1):\n",
    "    a2, cache = forward_prop(X, parameters)\n",
    "    cost = calculate_cost(a2, Y)\n",
    "    c.append(cost)\n",
    "    ite.append(i)\n",
    "    grads = backward_prop(X, Y, cache, parameters)\n",
    "    parameters = update_parameters(parameters, grads, learning_rate)\n",
    "    #if(i%100 == 0):\n",
    "      #print('Cost after iteration# {:d}: {:f}'.format(i, cost))\n",
    "  # Plot Loss function\n",
    "  plt.figure(figsize = (14,7))\n",
    "  plt.plot(ite,c)\n",
    "  plt.title(\"Cost during Training\")\n",
    "  plt.xlabel(\"Iterations\")\n",
    "  plt.ylabel(\"Cost\")\n",
    "  return parameters\n",
    "\n",
    "# Make a prediction\n",
    "# X: represents the inputs\n",
    "# parameters: represents a model\n",
    "# the result is the prediction\n",
    "def predict(X, parameters):\n",
    "  a2, cache = forward_prop(X, parameters)\n",
    "  yhat = a2\n",
    "  yhat = np.squeeze(yhat)\n",
    "  answer=np.zeros(len(yhat))\n",
    "  pos=1\n",
    "  maximo=0\n",
    "  for i in range(len(yhat)):\n",
    "        if(yhat[i]>= maximo): \n",
    "            maximo=yhat[i]\n",
    "            pos=i\n",
    "  answer[pos]=1\n",
    "  return answer"
   ]
  },
  {
   "cell_type": "markdown",
   "metadata": {},
   "source": [
    "## Pick one dataset\n",
    "Por el momento se escoge el iris dataset por su simplicidad"
   ]
  },
  {
   "cell_type": "code",
   "execution_count": 104,
   "metadata": {},
   "outputs": [
    {
     "data": {
      "text/plain": [
       "150"
      ]
     },
     "execution_count": 104,
     "metadata": {},
     "output_type": "execute_result"
    }
   ],
   "source": [
    "# We open the data from 'iris.data', and it is resize to get\n",
    "# the instances in its row, and atributes in the column\n",
    "iris_f=open(\"iris.data\", \"r\").read().replace('\\t',',').replace('\\n',',').split(',')\n",
    "iris=np.resize(np.array(iris_f),(int(len(iris_f)/5),5))\n",
    "\n",
    "\n",
    "# We save the variables of the output and input in new variables\n",
    "Y=iris[:, 4].astype(str)\n",
    "X=np.delete(iris,4,1).astype(float)\n",
    "m = X.shape[0]\n",
    "m"
   ]
  },
  {
   "cell_type": "markdown",
   "metadata": {},
   "source": [
    "## Implement the one hot encoding transformation"
   ]
  },
  {
   "cell_type": "code",
   "execution_count": 114,
   "metadata": {},
   "outputs": [],
   "source": [
    "# oneHotEncoding transform the output into a binary code, with just only one value diferent of zero \n",
    "# outputs: is the output that we get from the dataset\n",
    "def oneHotEncoding(outputs):\n",
    "    out=[]\n",
    "    for i in outputs:\n",
    "        if(i==\"Iris-setosa\"):\n",
    "            pro=[0,0,1]\n",
    "            \n",
    "        if(i==\"Iris-versicolor\"):\n",
    "            pro=[0,1,0]\n",
    "            \n",
    "        if(i==\"Iris-virginica\"):\n",
    "            pro=[1,0,0]\n",
    "        \n",
    "        out.append(pro)\n",
    "    return np.array(out)"
   ]
  },
  {
   "cell_type": "markdown",
   "metadata": {},
   "source": [
    "##  Implement the normalization\n",
    "Se define una función auxiliar normalizar, para después aplicarla a los datos"
   ]
  },
  {
   "cell_type": "code",
   "execution_count": 115,
   "metadata": {},
   "outputs": [],
   "source": [
    "# norm normalize the input from the dataset and return a new matriz\n",
    "# data: is the input from the dataser\n",
    "# length: is the amount of atributes of the input or data\n",
    "# low: is the smaller value that we want in our new data\n",
    "# high: is the highest value that we want in our new data\n",
    "def norm(data,length,low,high):\n",
    "    newData=np.zeros((len(data),length))\n",
    "    for i in range(length):\n",
    "        dMax=np.max(data[:,i])\n",
    "        dMin=np.min(data[:,i])\n",
    "        for j in range(len(data[:,i])):\n",
    "            newData[:,i][j]=((data[:,i][j]-dMin)*(high-low))/(dMax-dMin)+low\n",
    "    return newData"
   ]
  },
  {
   "cell_type": "code",
   "execution_count": 116,
   "metadata": {},
   "outputs": [],
   "source": [
    "# Here we separate the normalize data into a train group and a test group\n",
    "# we import the sklearn library, to separate the data in a desire percentage\n",
    "from sklearn.model_selection import train_test_split\n",
    "\n",
    "# First we normalize the input\n",
    "Xnom=norm(X,4,0,1)\n",
    "# And encode the output\n",
    "Ynom=oneHotEncoding(Y)\n",
    "x_train, x_test, y_train, y_test = train_test_split(Xnom, Ynom, test_size=0.30)\n",
    "\n",
    "# Here we transform the test input to work with de function due the structure that this have\n",
    "# We only makes vectors all the values of the matrix\n",
    "x_test_real=[]\n",
    "for i in x_test:\n",
    "    xx=[]\n",
    "    for j in i:\n",
    "        oo=[]\n",
    "        oo.append(j)\n",
    "        xx.append(oo)\n",
    "    x_test_real.append(xx)"
   ]
  },
  {
   "cell_type": "markdown",
   "metadata": {},
   "source": [
    "##  Implement a way to chart the cost functions during the training\n",
    "Durante el enternamiento se van guardando los costos en una lista, cuando este termina se grafican los resultados"
   ]
  },
  {
   "cell_type": "code",
   "execution_count": 117,
   "metadata": {
    "scrolled": false
   },
   "outputs": [
    {
     "data": {
      "image/png": "[encoded data removed]",
      "text/plain": [
       "<Figure size 1008x504 with 1 Axes>"
      ]
     },
     "metadata": {
      "needs_background": "light"
     },
     "output_type": "display_data"
    }
   ],
   "source": [
    "# In this part we train the parameters and plot the chart\n",
    "trained_parameters_model = model(np.transpose(x_train), np.transpose(y_train), 4, 5, 3, 20000, 0.1)\n",
    "plt.savefig('./Cost.png')"
   ]
  },
  {
   "cell_type": "code",
   "execution_count": 118,
   "metadata": {},
   "outputs": [
    {
     "data": {
      "image/png": "[encoded data removed]",
      "text/plain": [
       "<Figure size 1008x504 with 1 Axes>"
      ]
     },
     "metadata": {
      "needs_background": "light"
     },
     "output_type": "display_data"
    }
   ],
   "source": [
    "# We use other hiper-parameters\n",
    "trained_parameters_model2 = model(np.transpose(x_train), np.transpose(y_train), 4, 1, 3, 20000, 0.1)\n",
    "plt.savefig('./Cost.png')"
   ]
  },
  {
   "cell_type": "code",
   "execution_count": 110,
   "metadata": {},
   "outputs": [
    {
     "data": {
      "image/png": "[encoded data removed]",
      "text/plain": [
       "<Figure size 1008x504 with 1 Axes>"
      ]
     },
     "metadata": {
      "needs_background": "light"
     },
     "output_type": "display_data"
    }
   ],
   "source": [
    "# We use other hiper-parameters\n",
    "trained_parameters_model3 = model(np.transpose(x_train), np.transpose(y_train), 4, 10, 3, 20000, 0.1)\n",
    "plt.savefig('./Cost.png')"
   ]
  },
  {
   "cell_type": "code",
   "execution_count": 111,
   "metadata": {},
   "outputs": [
    {
     "data": {
      "image/png": "[encoded data removed]",
      "text/plain": [
       "<Figure size 1008x504 with 1 Axes>"
      ]
     },
     "metadata": {
      "needs_background": "light"
     },
     "output_type": "display_data"
    }
   ],
   "source": [
    "# We use other hiper-parameters\n",
    "trained_parameters_model4 = model(np.transpose(x_train), np.transpose(y_train), 4, 20, 3, 20000, 0.1)\n",
    "plt.savefig('./Cost.png')"
   ]
  },
  {
   "cell_type": "code",
   "execution_count": 112,
   "metadata": {},
   "outputs": [],
   "source": [
    "# Here we save the prediction of the test input\n",
    "y_predicted=[]\n",
    "for i in x_test_real:\n",
    "    y_predicted.append(predict(i,trained_parameters_model))\n",
    "\n",
    "y_predicted2=[]\n",
    "for i in x_test_real:\n",
    "    y_predicted2.append(predict(i,trained_parameters_model2))  \n",
    "    \n",
    "y_predicted3=[]\n",
    "for i in x_test_real:\n",
    "    y_predicted3.append(predict(i,trained_parameters_model3))  \n",
    "    \n",
    "y_predicted4=[]\n",
    "for i in x_test_real:\n",
    "    y_predicted4.append(predict(i,trained_parameters_model4))  "
   ]
  },
  {
   "cell_type": "code",
   "execution_count": 113,
   "metadata": {},
   "outputs": [
    {
     "name": "stdout",
     "output_type": "stream",
     "text": [
      "average precission using 5 hidden layers = 0.9097643097643098\n",
      "average precission using 1 hidden layers = 0.9076539104511133\n",
      "average precission using 10 hidden layers = 0.9097643097643098\n",
      "average precission using 20 hidden layers = 0.9097643097643098\n"
     ]
    }
   ],
   "source": [
    "# From sklearn we get a function to get the precision and in this way we can see\n",
    "# the performance of our trained parametres\n",
    "from sklearn.metrics import average_precision_score\n",
    "average_precision = average_precision_score(y_test, y_predicted)\n",
    "average_precision2 = average_precision_score(y_test, y_predicted2)\n",
    "average_precision3 = average_precision_score(y_test, y_predicted3)\n",
    "average_precision4 = average_precision_score(y_test, y_predicted4)\n",
    "print(f\"average precission using 5 hidden layers = {average_precision}\")\n",
    "print(f\"average precission using 1 hidden layers = {average_precision2}\")\n",
    "print(f\"average precission using 10 hidden layers = {average_precision3}\")\n",
    "print(f\"average precission using 20 hidden layers = {average_precision4}\")"
   ]
  },
  {
   "cell_type": "code",
   "execution_count": 98,
   "metadata": {},
   "outputs": [
    {
     "name": "stdout",
     "output_type": "stream",
     "text": [
      "Total de clases en test  'Iris-setosa'=19, 'Iris-versicolor'=14, 'Iris-virginica'=12\n"
     ]
    }
   ],
   "source": [
    "#In this part we see the real amount of each class\n",
    "\n",
    "first=0\n",
    "second=0\n",
    "third=0\n",
    "\n",
    "for i in y_test:\n",
    "    if i[0]==1:\n",
    "        first+=1\n",
    "    if i[1]==1:\n",
    "        second+=1\n",
    "    if i[2]==1:\n",
    "        third+=1\n",
    "    \n",
    "print(f\"Total de clases en test  'Iris-setosa'={first}, 'Iris-versicolor'={second}, 'Iris-virginica'={third}\")"
   ]
  },
  {
   "cell_type": "code",
   "execution_count": 99,
   "metadata": {},
   "outputs": [],
   "source": [
    "# Here we get the true positive of the prediction\n",
    "\n",
    "TPise=0\n",
    "TPive=0\n",
    "TPivi=0\n",
    "length=len(y_test)\n",
    "for i in range(length):\n",
    "    if (y_test[i]==y_predicted[i]).all() and (y_test[i]==[1,0,0]).all():\n",
    "        TPise+=1\n",
    "        \n",
    "    if (y_test[i]==y_predicted[i]).all() and (y_test[i]==[0,1,0]).all():\n",
    "        TPive+=1\n",
    "        \n",
    "    if (y_test[i]==y_predicted[i]).all() and (y_test[i]==[0,0,1]).all():\n",
    "        TPivi+=1\n",
    "    \n",
    "    \n"
   ]
  },
  {
   "cell_type": "code",
   "execution_count": 100,
   "metadata": {},
   "outputs": [],
   "source": [
    "# Here we get the false positive of the prediction\n",
    "\n",
    "FPise_ive=0\n",
    "FPise_ivi=0\n",
    "FPive_ise=0\n",
    "FPive_ivi=0\n",
    "FPivi_ise=0\n",
    "FPivi_ive=0\n",
    "for i in range(length):\n",
    "    if (y_predicted[i]==[1,0,0]).all() and (y_test[i]==[0,1,0]).all():\n",
    "        FPise_ive+=1\n",
    "        \n",
    "    if (y_predicted[i]==[1,0,0]).all() and (y_test[i]==[0,0,1]).all():\n",
    "        FPise_ivi+=1\n",
    "        \n",
    "    if (y_predicted[i]==[0,1,0]).all() and (y_test[i]==[1,0,0]).all():\n",
    "        FPive_ise+=1\n",
    "        \n",
    "    if (y_predicted[i]==[0,1,0]).all() and (y_test[i]==[0,0,1]).all():\n",
    "        FPive_ivi+=1\n",
    "        \n",
    "    if (y_predicted[i]==[0,0,1]).all() and (y_test[i]==[1,0,0]).all():\n",
    "        FPivi_ise+=1\n",
    "        \n",
    "    if (y_predicted[i]==[0,0,1]).all() and (y_test[i]==[0,1,0]).all():\n",
    "        FPivi_ive+=1\n",
    "\n",
    "        \n",
    "# We get the total amount of the prediction of each class\n",
    "totalPise=TPise+FPise_ive+FPise_ivi\n",
    "totalPive=TPive+FPive_ise+FPive_ivi\n",
    "totalPivi=TPivi+FPivi_ise+FPivi_ive\n",
    "total=first+second+third"
   ]
  },
  {
   "cell_type": "code",
   "execution_count": 101,
   "metadata": {},
   "outputs": [
    {
     "name": "stdout",
     "output_type": "stream",
     "text": [
      "Predicted\\real  | Iris-setosa | Iris-versicolor | Iris-virginica | Total predicho\n",
      "---------------------------------------------------------------------------------\n",
      "Iris-setosa     |    19       |        0        |       0        |        19\n",
      "---------------------------------------------------------------------------------\n",
      "Iris-versicolor |    0       |        14        |       0        |        14\n",
      "---------------------------------------------------------------------------------\n",
      "Iris-virginica  |    0       |        0        |       12       |        12\n",
      "---------------------------------------------------------------------------------\n",
      "Total Real      |    19       |        14        |       12       |        45\n"
     ]
    }
   ],
   "source": [
    "#And finally, we print the confusion matrix of our model\n",
    "\n",
    "print(\"Predicted\\\\real  | Iris-setosa | Iris-versicolor | Iris-virginica | Total predicho\" )\n",
    "print(\"---------------------------------------------------------------------------------\")\n",
    "print(f\"Iris-setosa     |    {TPise}       |        {FPise_ive}        |       {FPise_ivi}        |        {totalPise}\")\n",
    "print(\"---------------------------------------------------------------------------------\")\n",
    "print(f\"Iris-versicolor |    {FPive_ise}       |        {TPive}        |       {FPive_ivi}        |        {totalPive}\")\n",
    "print(\"---------------------------------------------------------------------------------\")\n",
    "print(f\"Iris-virginica  |    {FPivi_ise}       |        {FPivi_ive}        |       {TPivi}       |        {totalPivi}\")\n",
    "print(\"---------------------------------------------------------------------------------\")\n",
    "print(f\"Total Real      |    {first}       |        {second}        |       {third}       |        {total}\")"
   ]
  },
  {
   "cell_type": "code",
   "execution_count": null,
   "metadata": {},
   "outputs": [],
   "source": []
  },
  {
   "cell_type": "code",
   "execution_count": null,
   "metadata": {},
   "outputs": [],
   "source": []
  }
 ],
 "metadata": {
  "kernelspec": {
   "display_name": "Python 3",
   "language": "python",
   "name": "python3"
  },
  "language_info": {
   "codemirror_mode": {
    "name": "ipython",
    "version": 3
   },
   "file_extension": ".py",
   "mimetype": "text/x-python",
   "name": "python",
   "nbconvert_exporter": "python",
   "pygments_lexer": "ipython3",
   "version": "3.7.6"
  }
 },
 "nbformat": 4,
 "nbformat_minor": 4
}
